{
 "cells": [
  {
   "cell_type": "code",
   "execution_count": 1,
   "metadata": {},
   "outputs": [],
   "source": [
    "from pulp import *\n",
    "import matplotlib.pyplot as plt"
   ]
  },
  {
   "cell_type": "code",
   "execution_count": 2,
   "metadata": {},
   "outputs": [],
   "source": [
    "### macierz odleglosci\n",
    "D = [\n",
    "    [16.160, 24.080, 24.320, 21.120],\n",
    "    [19.000, 26.470, 27.240, 17.330],\n",
    "    [25.290, 32.490, 33.420, 12.250],\n",
    "    [0.000, 7.930, 8.310, 36.120],\n",
    "    [3.070, 6.440, 7.560, 37.360],\n",
    "    [1.220, 7.510, 8.190, 36.290],\n",
    "    [2.800, 10.310, 10.950, 33.500],\n",
    "    [2.870, 5.070, 5.670, 38.800],\n",
    "    [3.800, 8.010, 7.410, 38.160],\n",
    "    [12.350, 4.520, 4.350, 48.270],\n",
    "    [11.110, 3.480, 2.970, 47.140],\n",
    "    [21.990, 22.020, 24.070, 39.860],\n",
    "    [8.820, 3.300, 5.360, 43.310],\n",
    "    [7.930, 0.000, 2.070, 43.750],\n",
    "    [9.340, 2.250, 1.110, 45.430],\n",
    "    [8.310, 2.070, 0.000, 44.430],\n",
    "    [7.310, 2.440, 1.110, 43.430],\n",
    "    [7.550, 0.750, 1.530, 43.520],\n",
    "    [11.130, 18.410, 19.260, 25.400],\n",
    "    [17.490, 23.440, 24.760, 23.210],\n",
    "    [11.030, 18.930, 19.280, 25.430],\n",
    "    [36.120, 43.750, 44.430, 0.000]\n",
    "]\n",
    "\n",
    "### pracochlonnosc\n",
    "P = [0.1609, 0.1164, 0.1026, 0.1516, 0.0939, 0.1320, 0.0687, 0.0930, 0.2116, 0.2529, 0.0868, 0.0828, 0.0975, 0.8177,\n",
    "     0.4115, 0.3795, 0.0710, 0.0427, 0.1043, 0.0997, 0.1698, 0.2531]\n",
    "\n",
    "### OBECNY PRZYDZIAL\n",
    "A = [\n",
    "    [0, 0, 0, 1],\n",
    "    [0, 0, 0, 1],\n",
    "    [0, 0, 0, 1],\n",
    "    [1, 0, 0, 0],\n",
    "    [1, 0, 0, 0],\n",
    "    [1, 0, 0, 0],\n",
    "    [1, 0, 0, 0],\n",
    "    [1, 0, 0, 0],\n",
    "    [0, 0, 1, 0],\n",
    "    [0, 1, 0, 0],\n",
    "    [0, 1, 0, 0],\n",
    "    [0, 1, 0, 0],\n",
    "    [0, 1, 0, 0],\n",
    "    [0, 1, 0, 0],\n",
    "    [1, 0, 0, 0],\n",
    "    [0, 0, 1, 0],\n",
    "    [0, 0, 1, 0],\n",
    "    [0, 0, 1, 0],\n",
    "    [0, 0, 0, 1],\n",
    "    [0, 0, 0, 1],\n",
    "    [0, 0, 0, 1],\n",
    "    [0, 0, 0, 1],\n",
    "]\n",
    "\n",
    "### OBECNE LOKALIZACJE SIEDZIB\n",
    "L = [4, 14, 16, 22]\n"
   ]
  },
  {
   "cell_type": "code",
   "execution_count": 6,
   "metadata": {},
   "outputs": [
    {
     "ename": "IndexError",
     "evalue": "list index out of range",
     "output_type": "error",
     "traceback": [
      "\u001b[1;31m---------------------------------------------------------------------------\u001b[0m",
      "\u001b[1;31mIndexError\u001b[0m                                Traceback (most recent call last)",
      "Cell \u001b[1;32mIn[6], line 20\u001b[0m\n\u001b[0;32m     18\u001b[0m \u001b[38;5;66;03m# suma pracochłonności\u001b[39;00m\n\u001b[0;32m     19\u001b[0m \u001b[38;5;28;01mfor\u001b[39;00m agent \u001b[38;5;129;01min\u001b[39;00m \u001b[38;5;28mrange\u001b[39m(\u001b[38;5;28mlen\u001b[39m(variables)):\n\u001b[1;32m---> 20\u001b[0m     problem \u001b[38;5;241m+\u001b[39m\u001b[38;5;241m=\u001b[39m lpSum(\u001b[43m[\u001b[49m\u001b[43mvariables\u001b[49m\u001b[43m[\u001b[49m\u001b[43mr\u001b[49m\u001b[43m]\u001b[49m\u001b[43m[\u001b[49m\u001b[43magent\u001b[49m\u001b[43m]\u001b[49m\u001b[43m \u001b[49m\u001b[38;5;241;43m*\u001b[39;49m\u001b[43m \u001b[49m\u001b[43mP\u001b[49m\u001b[43m[\u001b[49m\u001b[43mr\u001b[49m\u001b[43m]\u001b[49m\u001b[43m \u001b[49m\u001b[38;5;28;43;01mfor\u001b[39;49;00m\u001b[43m \u001b[49m\u001b[43mr\u001b[49m\u001b[43m \u001b[49m\u001b[38;5;129;43;01min\u001b[39;49;00m\u001b[43m \u001b[49m\u001b[38;5;28;43mrange\u001b[39;49m\u001b[43m(\u001b[49m\u001b[38;5;28;43mlen\u001b[39;49m\u001b[43m(\u001b[49m\u001b[43mvariables\u001b[49m\u001b[43m)\u001b[49m\u001b[43m)\u001b[49m\u001b[43m]\u001b[49m) \u001b[38;5;241m>\u001b[39m\u001b[38;5;241m=\u001b[39m \u001b[38;5;241m0.9\u001b[39m\n\u001b[0;32m     21\u001b[0m     problem \u001b[38;5;241m+\u001b[39m\u001b[38;5;241m=\u001b[39m lpSum([variables[r][agent] \u001b[38;5;241m*\u001b[39m P[r] \u001b[38;5;28;01mfor\u001b[39;00m r \u001b[38;5;129;01min\u001b[39;00m \u001b[38;5;28mrange\u001b[39m(\u001b[38;5;28mlen\u001b[39m(variables))]) \u001b[38;5;241m<\u001b[39m\u001b[38;5;241m=\u001b[39m \u001b[38;5;241m1.1\u001b[39m\n\u001b[0;32m     23\u001b[0m \u001b[38;5;66;03m# ograniczenie związane z kryterium f2\u001b[39;00m\n",
      "Cell \u001b[1;32mIn[6], line 20\u001b[0m, in \u001b[0;36m<listcomp>\u001b[1;34m(.0)\u001b[0m\n\u001b[0;32m     18\u001b[0m \u001b[38;5;66;03m# suma pracochłonności\u001b[39;00m\n\u001b[0;32m     19\u001b[0m \u001b[38;5;28;01mfor\u001b[39;00m agent \u001b[38;5;129;01min\u001b[39;00m \u001b[38;5;28mrange\u001b[39m(\u001b[38;5;28mlen\u001b[39m(variables)):\n\u001b[1;32m---> 20\u001b[0m     problem \u001b[38;5;241m+\u001b[39m\u001b[38;5;241m=\u001b[39m lpSum([\u001b[43mvariables\u001b[49m\u001b[43m[\u001b[49m\u001b[43mr\u001b[49m\u001b[43m]\u001b[49m\u001b[43m[\u001b[49m\u001b[43magent\u001b[49m\u001b[43m]\u001b[49m \u001b[38;5;241m*\u001b[39m P[r] \u001b[38;5;28;01mfor\u001b[39;00m r \u001b[38;5;129;01min\u001b[39;00m \u001b[38;5;28mrange\u001b[39m(\u001b[38;5;28mlen\u001b[39m(variables))]) \u001b[38;5;241m>\u001b[39m\u001b[38;5;241m=\u001b[39m \u001b[38;5;241m0.9\u001b[39m\n\u001b[0;32m     21\u001b[0m     problem \u001b[38;5;241m+\u001b[39m\u001b[38;5;241m=\u001b[39m lpSum([variables[r][agent] \u001b[38;5;241m*\u001b[39m P[r] \u001b[38;5;28;01mfor\u001b[39;00m r \u001b[38;5;129;01min\u001b[39;00m \u001b[38;5;28mrange\u001b[39m(\u001b[38;5;28mlen\u001b[39m(variables))]) \u001b[38;5;241m<\u001b[39m\u001b[38;5;241m=\u001b[39m \u001b[38;5;241m1.1\u001b[39m\n\u001b[0;32m     23\u001b[0m \u001b[38;5;66;03m# ograniczenie związane z kryterium f2\u001b[39;00m\n",
      "\u001b[1;31mIndexError\u001b[0m: list index out of range"
     ]
    }
   ],
   "source": [
    "epsilon = 0.5\n",
    "\n",
    "problem = LpProblem(name=\"pfitzer\", sense=LpMinimize)\n",
    "\n",
    "# utworzenie zmiennych decyzyjnych\n",
    "variables = []\n",
    "for region in range(len(A)):\n",
    "    variables.append([])\n",
    "    for agent in range(len(A[region])):\n",
    "        variables[region].append(LpVariable(name=f\"b_{region}_{agent}\", cat='Binary'))\n",
    "\n",
    "# dodanie ograniczeń\n",
    "\n",
    "# jeden region - dokładnie jeden przedstawiciel\n",
    "for region in range(len(variables)):\n",
    "    problem += lpSum([b for b in variables[region]]) == 1\n",
    "\n",
    "# suma pracochłonności\n",
    "for agent in range(len(variables[0])):\n",
    "    problem += lpSum([variables[r][agent] * P[r] for r in range(len(variables))]) >= 0.9\n",
    "    problem += lpSum([variables[r][agent] * P[r] for r in range(len(variables))]) <= 1.1\n",
    "\n",
    "# ograniczenie związane z kryterium f2\n",
    "problem += lpSum([variables[r][a] * P[r] for a in range(len(variables[0])) for r in range(len(variables)) if A[r][a] == 0]) <= epsilon\n",
    "\n"
   ]
  }
 ],
 "metadata": {
  "kernelspec": {
   "display_name": "Python 3",
   "language": "python",
   "name": "python3"
  },
  "language_info": {
   "codemirror_mode": {
    "name": "ipython",
    "version": 3
   },
   "file_extension": ".py",
   "mimetype": "text/x-python",
   "name": "python",
   "nbconvert_exporter": "python",
   "pygments_lexer": "ipython3",
   "version": "3.11.8"
  }
 },
 "nbformat": 4,
 "nbformat_minor": 2
}
