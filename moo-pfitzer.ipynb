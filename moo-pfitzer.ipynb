{
 "cells": [
  {
   "cell_type": "code",
   "execution_count": 35,
   "metadata": {},
   "outputs": [],
   "source": [
    "from pulp import *\n",
    "import matplotlib.pyplot as plt\n",
    "from functools import reduce"
   ]
  },
  {
   "cell_type": "code",
   "execution_count": 36,
   "metadata": {},
   "outputs": [],
   "source": [
    "### macierz odleglosci\n",
    "D = [\n",
    "    [16.160, 24.080, 24.320, 21.120],\n",
    "    [19.000, 26.470, 27.240, 17.330],\n",
    "    [25.290, 32.490, 33.420, 12.250],\n",
    "    [0.000, 7.930, 8.310, 36.120],\n",
    "    [3.070, 6.440, 7.560, 37.360],\n",
    "    [1.220, 7.510, 8.190, 36.290],\n",
    "    [2.800, 10.310, 10.950, 33.500],\n",
    "    [2.870, 5.070, 5.670, 38.800],\n",
    "    [3.800, 8.010, 7.410, 38.160],\n",
    "    [12.350, 4.520, 4.350, 48.270],\n",
    "    [11.110, 3.480, 2.970, 47.140],\n",
    "    [21.990, 22.020, 24.070, 39.860],\n",
    "    [8.820, 3.300, 5.360, 43.310],\n",
    "    [7.930, 0.000, 2.070, 43.750],\n",
    "    [9.340, 2.250, 1.110, 45.430],\n",
    "    [8.310, 2.070, 0.000, 44.430],\n",
    "    [7.310, 2.440, 1.110, 43.430],\n",
    "    [7.550, 0.750, 1.530, 43.520],\n",
    "    [11.130, 18.410, 19.260, 25.400],\n",
    "    [17.490, 23.440, 24.760, 23.210],\n",
    "    [11.030, 18.930, 19.280, 25.430],\n",
    "    [36.120, 43.750, 44.430, 0.000]\n",
    "]\n",
    "\n",
    "### pracochlonnosc\n",
    "P = [0.1609, 0.1164, 0.1026, 0.1516, 0.0939, 0.1320, 0.0687, 0.0930, 0.2116, 0.2529, 0.0868, 0.0828, 0.0975, 0.8177,\n",
    "     0.4115, 0.3795, 0.0710, 0.0427, 0.1043, 0.0997, 0.1698, 0.2531]\n",
    "\n",
    "### OBECNY PRZYDZIAL\n",
    "A = [\n",
    "    [0, 0, 0, 1],\n",
    "    [0, 0, 0, 1],\n",
    "    [0, 0, 0, 1],\n",
    "    [1, 0, 0, 0],\n",
    "    [1, 0, 0, 0],\n",
    "    [1, 0, 0, 0],\n",
    "    [1, 0, 0, 0],\n",
    "    [1, 0, 0, 0],\n",
    "    [0, 0, 1, 0],\n",
    "    [0, 1, 0, 0],\n",
    "    [0, 1, 0, 0],\n",
    "    [0, 1, 0, 0],\n",
    "    [0, 1, 0, 0],\n",
    "    [0, 1, 0, 0],\n",
    "    [1, 0, 0, 0],\n",
    "    [0, 0, 1, 0],\n",
    "    [0, 0, 1, 0],\n",
    "    [0, 0, 1, 0],\n",
    "    [0, 0, 0, 1],\n",
    "    [0, 0, 0, 1],\n",
    "    [0, 0, 0, 1],\n",
    "    [0, 0, 0, 1],\n",
    "]\n",
    "\n",
    "### OBECNE LOKALIZACJE SIEDZIB\n",
    "L = [4, 14, 16, 22]\n"
   ]
  },
  {
   "cell_type": "code",
   "execution_count": 37,
   "metadata": {},
   "outputs": [],
   "source": [
    "def ecm(epsilon):\n",
    "    problem = LpProblem(name=f\"pfitzer(e={epsilon})\", sense=LpMinimize)\n",
    "\n",
    "    # utworzenie zmiennych decyzyjnych\n",
    "    variables = []\n",
    "    for region in range(len(A)):\n",
    "        variables.append([])\n",
    "        for agent in range(len(A[region])):\n",
    "            variables[region].append(LpVariable(name=f\"b_{region}_{agent}\", cat='Binary'))\n",
    "\n",
    "\n",
    "    # funkcja celu f1\n",
    "    problem += lpSum([variables[r][a] * D[r][a] for a in range(len(variables[0])) for r in range(len(variables))]), \"f1\"\n",
    "\n",
    "    # dodanie ograniczeń\n",
    "\n",
    "    # jeden region - dokładnie jeden przedstawiciel\n",
    "    for region in range(len(variables)):\n",
    "        problem += lpSum([b for b in variables[region]]) == 1, f\"one_agent_in_region_{region}\"\n",
    "\n",
    "    # suma pracochłonności\n",
    "    for agent in range(len(variables[0])):\n",
    "        problem += lpSum([variables[r][agent] * P[r] for r in range(len(variables))]) >= 0.9, f\"min_labor_consumption_for_agent_{agent}\"\n",
    "        problem += lpSum([variables[r][agent] * P[r] for r in range(len(variables))]) <= 1.1, f\"max_labor_consumption_for_agent_{agent}\"\n",
    "\n",
    "    # ograniczenie związane z kryterium f2\n",
    "    problem += lpSum([variables[r][a] * P[r] * 0.25 for a in range(len(variables[0])) for r in range(len(variables)) if A[r][a] == 0]) <= epsilon, \"f2_constraint\"\n",
    "\n",
    "    problem.solve()\n",
    "\n",
    "    f1 = problem.objective.value()\n",
    "\n",
    "    f2 = problem.constraints[\"f2_constraint\"].value()- problem.constraints[\"f2_constraint\"].constant\n",
    "    \n",
    "    return problem.status, f1, f2\n",
    "\n"
   ]
  },
  {
   "cell_type": "code",
   "execution_count": 38,
   "metadata": {},
   "outputs": [
    {
     "name": "stdout",
     "output_type": "stream",
     "text": [
      "10\n",
      "[0.283525, 0.248625, 0.247475, 0.121675, 0.111, 0.0893, 0.08815, 0.084925, 0.083925, 0.063225]\n"
     ]
    }
   ],
   "source": [
    "f1_arr = []\n",
    "f2_arr = []\n",
    "\n",
    "points_limit = 10\n",
    "no_points = 0\n",
    "\n",
    "while no_points < points_limit:\n",
    "    if no_points == 0:\n",
    "        epsilon = 1\n",
    "    else:\n",
    "        epsilon = f2 - 0.0001\n",
    "        \n",
    "    status, f1, f2 = ecm(epsilon)\n",
    "    if status == -1:\n",
    "        break\n",
    "    f1_arr.append(f1)\n",
    "    f2_arr.append(f2)\n",
    "    no_points += 1\n",
    "\n",
    "print(len(f1_arr))\n",
    "print(f2_arr)"
   ]
  },
  {
   "cell_type": "code",
   "execution_count": 39,
   "metadata": {},
   "outputs": [
    {
     "data": {
      "image/png": "[encoded data removed]",
      "text/plain": [
       "<Figure size 640x480 with 1 Axes>"
      ]
     },
     "metadata": {},
     "output_type": "display_data"
    }
   ],
   "source": [
    "plt.scatter(f1_arr, f2_arr)\n",
    "plt.xlabel(\"f1\")\n",
    "plt.ylabel(\"f2\")\n",
    "plt.title(\"Oceny rozwiązań z frontu Pareto\")\n",
    "plt.grid()"
   ]
  }
 ],
 "metadata": {
  "kernelspec": {
   "display_name": "Python 3",
   "language": "python",
   "name": "python3"
  },
  "language_info": {
   "codemirror_mode": {
    "name": "ipython",
    "version": 3
   },
   "file_extension": ".py",
   "mimetype": "text/x-python",
   "name": "python",
   "nbconvert_exporter": "python",
   "pygments_lexer": "ipython3",
   "version": "3.11.8"
  }
 },
 "nbformat": 4,
 "nbformat_minor": 2
}
